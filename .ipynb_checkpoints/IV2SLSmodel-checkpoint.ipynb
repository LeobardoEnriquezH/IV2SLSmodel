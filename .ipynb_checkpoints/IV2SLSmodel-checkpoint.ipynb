{
 "cells": [
  {
   "cell_type": "markdown",
   "id": "237501ba-2316-44a5-8a66-3efbdd6abaee",
   "metadata": {},
   "source": [
    "### Instrumental variables regression using the IV2SLS class of statsmodels"
   ]
  },
  {
   "cell_type": "code",
   "execution_count": 2,
   "id": "b36aaf26-fd1a-4328-b75b-57eb138a867a",
   "metadata": {},
   "outputs": [],
   "source": [
    "import pandas as pd\n",
    "import numpy as np\n",
    "import statsmodels.formula.api as smf\n",
    "from statsmodels.api import add_constant\n",
    "from statsmodels.sandbox.regression.gmm import IV2SLS\n"
   ]
  },
  {
   "cell_type": "code",
   "execution_count": 3,
   "id": "c0607dc8-4dd5-4037-ae3b-2754bd5ba30b",
   "metadata": {},
   "outputs": [],
   "source": [
    "#Load the Panel Study of Income Dynamics (PSID) into a Dataframe\n",
    "df = pd.read_csv('PSID1976.csv', header=0)"
   ]
  },
  {
   "cell_type": "code",
   "execution_count": 5,
   "id": "87178b35-98e4-4c0e-b2f9-96d8a6c64f1a",
   "metadata": {},
   "outputs": [],
   "source": [
    "#Use a subset of the dataset where participating=yes\n",
    "df_1975 = df.query('participation == \\'yes\\'')\n",
    "#print(df_1975)"
   ]
  },
  {
   "cell_type": "code",
   "execution_count": 6,
   "id": "819da99f-d77a-4b73-956e-03349b3025f4",
   "metadata": {},
   "outputs": [],
   "source": [
    "#Let's confirm that meducation and feducation satisfy the relevance condition for education\n",
    "reg_expr = 'education ~ meducation + feducation'"
   ]
  },
  {
   "cell_type": "code",
   "execution_count": 7,
   "id": "1a627cb5-201d-40cf-a693-e580334dbee2",
   "metadata": {},
   "outputs": [
    {
     "name": "stdout",
     "output_type": "stream",
     "text": [
      "                            OLS Regression Results                            \n",
      "==============================================================================\n",
      "Dep. Variable:              education   R-squared:                       0.208\n",
      "Model:                            OLS   Adj. R-squared:                  0.204\n",
      "Method:                 Least Squares   F-statistic:                     55.83\n",
      "Date:                Sun, 05 Nov 2023   Prob (F-statistic):           2.96e-22\n",
      "Time:                        23:16:58   Log-Likelihood:                -910.64\n",
      "No. Observations:                 428   AIC:                             1827.\n",
      "Df Residuals:                     425   BIC:                             1839.\n",
      "Df Model:                           2                                         \n",
      "Covariance Type:            nonrobust                                         \n",
      "==============================================================================\n",
      "                 coef    std err          t      P>|t|      [0.025      0.975]\n",
      "------------------------------------------------------------------------------\n",
      "Intercept      9.4801      0.321     29.523      0.000       8.849      10.111\n",
      "meducation     0.1564      0.036      4.365      0.000       0.086       0.227\n",
      "feducation     0.1881      0.034      5.593      0.000       0.122       0.254\n",
      "==============================================================================\n",
      "Omnibus:                       10.509   Durbin-Watson:                   1.938\n",
      "Prob(Omnibus):                  0.005   Jarque-Bera (JB):               19.289\n",
      "Skew:                          -0.000   Prob(JB):                     6.48e-05\n",
      "Kurtosis:                       4.040   Cond. No.                         45.1\n",
      "==============================================================================\n",
      "\n",
      "Notes:\n",
      "[1] Standard Errors assume that the covariance matrix of the errors is correctly specified.\n"
     ]
    }
   ],
   "source": [
    "#Build an train an OLS model that regresses education on meducation and feducation and verify\n",
    "# using the F-test that coefficients of meducation and feducation are jointly significant\n",
    "# significance\n",
    "olsr_model = smf.ols(formula=reg_expr, data=df_1975)\n",
    "olsr_model_results = olsr_model.fit()\n",
    "print(olsr_model_results.summary())"
   ]
  },
  {
   "cell_type": "code",
   "execution_count": 8,
   "id": "c707085c-593b-4abd-8bcd-a752bbbefe0f",
   "metadata": {},
   "outputs": [
    {
     "name": "stderr",
     "output_type": "stream",
     "text": [
      "C:\\Users\\Leobardo\\AppData\\Local\\Temp\\ipykernel_18596\\3005918990.py:2: SettingWithCopyWarning: \n",
      "A value is trying to be set on a copy of a slice from a DataFrame.\n",
      "Try using .loc[row_indexer,col_indexer] = value instead\n",
      "\n",
      "See the caveats in the documentation: https://pandas.pydata.org/pandas-docs/stable/user_guide/indexing.html#returning-a-view-versus-a-copy\n",
      "  df_1975['ln_wage'] = np.log(df_1975['wage'])\n"
     ]
    }
   ],
   "source": [
    "#Build the dependent variable column\n",
    "df_1975['ln_wage'] = np.log(df_1975['wage'])"
   ]
  },
  {
   "cell_type": "code",
   "execution_count": 9,
   "id": "8d8fa84e-658d-443f-97ad-86f0ac332fd8",
   "metadata": {},
   "outputs": [],
   "source": [
    "#Build out the exog matrix. Statsmodels requires this matrix to contain all the endogenous and\n",
    "# exogenous variables, plus the constant.\n",
    "exog = df_1975[['education']]\n",
    "exog = add_constant(exog)"
   ]
  },
  {
   "cell_type": "code",
   "execution_count": 10,
   "id": "c27f8708-a54c-4119-9c07-993fca6eb666",
   "metadata": {},
   "outputs": [],
   "source": [
    "#Build out the instruments matrix. Statsmodels requires this matrix to contain not only all the\n",
    "# instruments but also the variables in exog that will NOT be instrumented\n",
    "instruments = df_1975[['meducation', 'feducation']]\n",
    "instruments = add_constant(instruments)"
   ]
  },
  {
   "cell_type": "code",
   "execution_count": 11,
   "id": "e046f4f7-cc59-47c0-87ff-2518c084d5d6",
   "metadata": {},
   "outputs": [],
   "source": [
    "#Build and train the IV2SLS model\n",
    "iv2sls_model = IV2SLS(endog=df_1975['ln_wage'], exog=exog, instrument=instruments)\n",
    "iv2sls_model_results = iv2sls_model.fit()"
   ]
  },
  {
   "cell_type": "code",
   "execution_count": 12,
   "id": "9a5cec64-4ad5-4345-91b9-bb1f0c52272e",
   "metadata": {},
   "outputs": [
    {
     "name": "stdout",
     "output_type": "stream",
     "text": [
      "                          IV2SLS Regression Results                           \n",
      "==============================================================================\n",
      "Dep. Variable:                ln_wage   R-squared:                       0.084\n",
      "Model:                         IV2SLS   Adj. R-squared:                  0.082\n",
      "Method:                     Two Stage   F-statistic:                     2.464\n",
      "                        Least Squares   Prob (F-statistic):              0.117\n",
      "Date:                Sun, 05 Nov 2023                                         \n",
      "Time:                        23:20:08                                         \n",
      "No. Observations:                 428                                         \n",
      "Df Residuals:                     426                                         \n",
      "Df Model:                           1                                         \n",
      "==============================================================================\n",
      "                 coef    std err          t      P>|t|      [0.025      0.975]\n",
      "------------------------------------------------------------------------------\n",
      "const          0.5510      0.409      1.349      0.178      -0.252       1.354\n",
      "education      0.0505      0.032      1.570      0.117      -0.013       0.114\n",
      "==============================================================================\n",
      "Omnibus:                       79.194   Durbin-Watson:                   1.965\n",
      "Prob(Omnibus):                  0.000   Jarque-Bera (JB):              237.381\n",
      "Skew:                          -0.853   Prob(JB):                     2.84e-52\n",
      "Kurtosis:                       6.225   Cond. No.                         72.9\n",
      "==============================================================================\n"
     ]
    }
   ],
   "source": [
    "#Print the training summary\n",
    "print(iv2sls_model_results.summary())"
   ]
  },
  {
   "cell_type": "code",
   "execution_count": 13,
   "id": "a41f87f9-739e-4f65-be4d-d02420ccda7d",
   "metadata": {},
   "outputs": [
    {
     "name": "stdout",
     "output_type": "stream",
     "text": [
      "                            OLS Regression Results                            \n",
      "==============================================================================\n",
      "Dep. Variable:                ln_wage   R-squared:                       0.118\n",
      "Model:                            OLS   Adj. R-squared:                  0.116\n",
      "Method:                 Least Squares   F-statistic:                     56.93\n",
      "Date:                Sun, 05 Nov 2023   Prob (F-statistic):           2.76e-13\n",
      "Time:                        23:20:37   Log-Likelihood:                -441.26\n",
      "No. Observations:                 428   AIC:                             886.5\n",
      "Df Residuals:                     426   BIC:                             894.6\n",
      "Df Model:                           1                                         \n",
      "Covariance Type:            nonrobust                                         \n",
      "==============================================================================\n",
      "                 coef    std err          t      P>|t|      [0.025      0.975]\n",
      "------------------------------------------------------------------------------\n",
      "Intercept     -0.1852      0.185     -1.000      0.318      -0.549       0.179\n",
      "education      0.1086      0.014      7.545      0.000       0.080       0.137\n",
      "==============================================================================\n",
      "Omnibus:                       91.833   Durbin-Watson:                   1.985\n",
      "Prob(Omnibus):                  0.000   Jarque-Bera (JB):              303.790\n",
      "Skew:                          -0.956   Prob(JB):                     1.08e-66\n",
      "Kurtosis:                       6.658   Cond. No.                         72.9\n",
      "==============================================================================\n",
      "\n",
      "Notes:\n",
      "[1] Standard Errors assume that the covariance matrix of the errors is correctly specified.\n"
     ]
    }
   ],
   "source": [
    "#Compare the performance of 2SLS with OLS of ln(wage) on education\n",
    "reg_expr = 'ln_wage ~ education'\n",
    "olsr_model = smf.ols(formula=reg_expr, data=df_1975)\n",
    "olsr_model_results = olsr_model.fit()\n",
    "print(olsr_model_results.summary())"
   ]
  },
  {
   "cell_type": "code",
   "execution_count": null,
   "id": "abb105f0-30e6-4c06-a825-7b5585048dd7",
   "metadata": {},
   "outputs": [],
   "source": []
  },
  {
   "cell_type": "code",
   "execution_count": null,
   "id": "aa6ef2d6-aacf-4cf5-876e-8de342f04524",
   "metadata": {},
   "outputs": [],
   "source": []
  }
 ],
 "metadata": {
  "kernelspec": {
   "display_name": "Python 3 (ipykernel)",
   "language": "python",
   "name": "python3"
  },
  "language_info": {
   "codemirror_mode": {
    "name": "ipython",
    "version": 3
   },
   "file_extension": ".py",
   "mimetype": "text/x-python",
   "name": "python",
   "nbconvert_exporter": "python",
   "pygments_lexer": "ipython3",
   "version": "3.11.1"
  }
 },
 "nbformat": 4,
 "nbformat_minor": 5
}
